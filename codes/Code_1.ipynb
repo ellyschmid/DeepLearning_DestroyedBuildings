{
 "cells": [
  {
   "cell_type": "markdown",
   "id": "d8caba16",
   "metadata": {},
   "source": [
    "# Code 1: Generating Buffers Around Ground Truth Data\n",
    "\n",
    "The ground truth dataset provides point information about damaged buildings. The first code creates buffers around these points in a square. (Mask for the training dataset)"
   ]
  },
  {
   "cell_type": "markdown",
   "id": "b66a9fe4",
   "metadata": {},
   "source": [
    "**Import necessary libraries**"
   ]
  },
  {
   "cell_type": "code",
   "execution_count": null,
   "id": "f0593a28",
   "metadata": {},
   "outputs": [],
   "source": [
    "import geopandas as gpd\n",
    "from shapely.geometry import Point\n",
    "import matplotlib.pyplot as plt"
   ]
  },
  {
   "cell_type": "markdown",
   "id": "007ae41a",
   "metadata": {},
   "source": [
    "**Set working directory and output path**"
   ]
  },
  {
   "cell_type": "code",
   "execution_count": null,
   "id": "325d5935",
   "metadata": {},
   "outputs": [],
   "source": [
    "WorkDir = \"C:/Users/agnes/Documents/EAGLE/Advanced_Programming/Destroyed_Buildings/data/vector/\"\n",
    "Output = \"C:/Users/agnes/Documents/EAGLE/Advanced_Programming/Destroyed_Buildings/RNN/buffer/\""
   ]
  },
  {
   "cell_type": "markdown",
   "id": "9c55484f",
   "metadata": {},
   "source": [
    "**Create buffers**"
   ]
  },
  {
   "cell_type": "code",
   "execution_count": null,
   "id": "7c3bb826",
   "metadata": {},
   "outputs": [],
   "source": [
    "# Generate some sample data\n",
    "points = gpd.read_file(WorkDir + \"irpin_points.shp\")\n",
    "\n",
    "# Buffer the points using a square cap style\n",
    "# Note cap_style: round = 1, flat = 2, square = 3\n",
    "buffer = points.buffer(25, cap_style=3)\n",
    "buffer.to_file(Output + \"buffer_25.shp\")\n"
   ]
  }
 ],
 "metadata": {
  "kernelspec": {
   "display_name": "Python 3 (ipykernel)",
   "language": "python",
   "name": "python3"
  },
  "language_info": {
   "codemirror_mode": {
    "name": "ipython",
    "version": 3
   },
   "file_extension": ".py",
   "mimetype": "text/x-python",
   "name": "python",
   "nbconvert_exporter": "python",
   "pygments_lexer": "ipython3",
   "version": "3.10.9"
  }
 },
 "nbformat": 4,
 "nbformat_minor": 5
}
